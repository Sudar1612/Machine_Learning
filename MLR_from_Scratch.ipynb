{
 "cells": [
  {
   "cell_type": "markdown",
   "id": "4a6eae61-f6b3-4813-a970-204f9b522f9c",
   "metadata": {},
   "source": [
    "# Importing Libraries"
   ]
  },
  {
   "cell_type": "code",
   "execution_count": 25,
   "id": "463508e8-881c-489a-b4f2-f2bdae15f9fc",
   "metadata": {},
   "outputs": [],
   "source": [
    "import pandas as pd\n",
    "import numpy as np\n",
    "import copy\n",
    "\n",
    "from sklearn.model_selection import train_test_split"
   ]
  },
  {
   "cell_type": "markdown",
   "id": "d7092f98-c4e8-4d60-b885-4408c194dce8",
   "metadata": {},
   "source": [
    "# Multiple Linear Regression"
   ]
  },
  {
   "cell_type": "code",
   "execution_count": 27,
   "id": "27a67417-6eca-4822-a12c-cea41e17307d",
   "metadata": {},
   "outputs": [],
   "source": [
    "class MultipleLinearRegression():\n",
    "    def __init__(self):\n",
    "        self.coefficients=None\n",
    "        self.intercept=None\n",
    "\n",
    "    def fit(self,x,y):\n",
    "        #preprare x and y for coefficients estiamte\n",
    "        x=self._transform_x(x)\n",
    "        y=self._transform_y(y)\n",
    "\n",
    "        betas = self._estimate_coefficients(x,y)\n",
    "\n",
    "        self.intercept = betas[0]\n",
    "        self.coefficients = betas[1:]\n",
    "\n",
    "    def predict(self,x):\n",
    "        #y = b_0 + b_1*x + ... + b_i*x_i\n",
    "        x = self._transform_x(x)\n",
    "        predictions = np.dot(x, np.append(self.intercept, self.coefficients))\n",
    "        return predictions\n",
    "\n",
    "    def r2_score(self,y_true,y_pred):\n",
    "        '''\n",
    "            r2 = 1 - (rss/tss)\n",
    "            rss = sum_{i=0}^{n} (y_i - y_hat)^2\n",
    "            tss = sum_{i=0}^{n} (y_i - y_bar)^2\n",
    "        # '''\n",
    "        y_values = y_true.values\n",
    "        y_average = np.average(y_values)\n",
    "\n",
    "        residual_sum_of_squares = np.sum((y_values - y_pred) ** 2)\n",
    "        total_sum_of_squares = np.sum((y_values - y_average) ** 2)\n",
    "\n",
    "        return 1 - (residual_sum_of_squares / total_sum_of_squares)\n",
    "\n",
    "    def _transform_x(self,x):\n",
    "        x = copy.deepcopy(x)\n",
    "        ones = np.ones((x.shape[0], 1))\n",
    "        x = np.hstack((ones, x))\n",
    "        return x\n",
    "\n",
    "    def _transform_y(self,y):\n",
    "        y=copy.deepcopy(y)\n",
    "        return y.values\n",
    "\n",
    "    def _estimate_coefficients(self,x,y):\n",
    "        '''\n",
    "            β = ((X^T X)^-1) X^T y\n",
    "        '''\n",
    "        xT = x.transpose()\n",
    "        inversed = np.linalg.inv( xT.dot(x) )\n",
    "        coefficients = inversed.dot( xT ).dot(y)\n",
    "        return coefficients"
   ]
  },
  {
   "cell_type": "markdown",
   "id": "016d620b-36e5-4279-a650-832d56943454",
   "metadata": {},
   "source": [
    "# Boston Housing Dataset"
   ]
  },
  {
   "cell_type": "code",
   "execution_count": 29,
   "id": "b901c207-a034-4b2e-8c66-98f4a3bd9f9e",
   "metadata": {},
   "outputs": [],
   "source": [
    "def sklearn_to_data(data_loader):\n",
    "    X_data=data_loader.data\n",
    "    X_columns=data_loader.feature_names\n",
    "    X=pd.DataFrame(X_data,columns=X_columns)\n",
    "\n",
    "    y_data = data_loader.target\n",
    "    y=pd.Series(y_data,name='target')\n",
    "\n",
    "    return X,y"
   ]
  },
  {
   "cell_type": "code",
   "execution_count": 30,
   "id": "ead27c98-29c6-47f8-8ace-9e3bd2fe7e58",
   "metadata": {},
   "outputs": [],
   "source": [
    "from sklearn.datasets import fetch_openml \n",
    "boston = fetch_openml(name='boston', version=1) \n",
    "x,y = sklearn_to_data(boston)\n",
    "\n",
    "x['CHAS'] = x['CHAS'].astype('float64')\n",
    "x['RAD'] = x['RAD'].astype('float64')"
   ]
  },
  {
   "cell_type": "markdown",
   "id": "752c41a0-eb40-4256-89d7-34cc76a87f04",
   "metadata": {},
   "source": [
    "# Model Training"
   ]
  },
  {
   "cell_type": "code",
   "execution_count": 32,
   "id": "bfaaa3a0-2502-4561-87d7-a52c6ac67039",
   "metadata": {},
   "outputs": [],
   "source": [
    "X_train,X_test,y_train,y_test=train_test_split(x,y,test_size=0.3,random_state=42)"
   ]
  },
  {
   "cell_type": "code",
   "execution_count": 33,
   "id": "8c33cdec-25f1-488a-be3b-b8549c1eca6c",
   "metadata": {},
   "outputs": [],
   "source": [
    "mlr=MultipleLinearRegression()"
   ]
  },
  {
   "cell_type": "code",
   "execution_count": 34,
   "id": "36055e90-02c3-4177-b55a-a00ecaa5d7f9",
   "metadata": {},
   "outputs": [],
   "source": [
    "mlr.fit(X_train,y_train)"
   ]
  },
  {
   "cell_type": "markdown",
   "id": "553ffcf1-71a3-4e4f-a68d-691c4d62b73a",
   "metadata": {},
   "source": [
    "#  Predictions & R2 Score"
   ]
  },
  {
   "cell_type": "code",
   "execution_count": 36,
   "id": "aed732f2-0548-4253-9e87-3e9602182b92",
   "metadata": {},
   "outputs": [],
   "source": [
    "pred=mlr.predict(X_test)"
   ]
  },
  {
   "cell_type": "code",
   "execution_count": 37,
   "id": "b9dd9e22-8dd0-4e63-af49-26de627d4307",
   "metadata": {},
   "outputs": [
    {
     "name": "stdout",
     "output_type": "stream",
     "text": [
      "Our Final R2 score: 0.711226005748473\n"
     ]
    }
   ],
   "source": [
    "score = mlr.r2_score(y_test, pred)\n",
    "print('Our Final R2 score:', score)"
   ]
  }
 ],
 "metadata": {
  "kernelspec": {
   "display_name": "Python 3 (ipykernel)",
   "language": "python",
   "name": "python3"
  },
  "language_info": {
   "codemirror_mode": {
    "name": "ipython",
    "version": 3
   },
   "file_extension": ".py",
   "mimetype": "text/x-python",
   "name": "python",
   "nbconvert_exporter": "python",
   "pygments_lexer": "ipython3",
   "version": "3.12.4"
  }
 },
 "nbformat": 4,
 "nbformat_minor": 5
}
